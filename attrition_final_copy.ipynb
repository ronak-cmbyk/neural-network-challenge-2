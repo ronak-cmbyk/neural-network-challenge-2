{
  "cells": [
    {
      "cell_type": "markdown",
      "metadata": {
        "id": "alIIEHibGc3M"
      },
      "source": [
        "## Part 1: Preprocessing"
      ]
    },
    {
      "cell_type": "code",
      "execution_count": 2,
      "metadata": {
        "colab": {
          "base_uri": "https://localhost:8080/",
          "height": 325
        },
        "id": "6eDUJ4NtGc3P",
        "outputId": "bd9a867d-c276-47cc-d1f0-585230c97dbd"
      },
      "outputs": [
        {
          "data": {
            "text/html": [
              "<div>\n",
              "<style scoped>\n",
              "    .dataframe tbody tr th:only-of-type {\n",
              "        vertical-align: middle;\n",
              "    }\n",
              "\n",
              "    .dataframe tbody tr th {\n",
              "        vertical-align: top;\n",
              "    }\n",
              "\n",
              "    .dataframe thead th {\n",
              "        text-align: right;\n",
              "    }\n",
              "</style>\n",
              "<table border=\"1\" class=\"dataframe\">\n",
              "  <thead>\n",
              "    <tr style=\"text-align: right;\">\n",
              "      <th></th>\n",
              "      <th>Age</th>\n",
              "      <th>Attrition</th>\n",
              "      <th>BusinessTravel</th>\n",
              "      <th>Department</th>\n",
              "      <th>DistanceFromHome</th>\n",
              "      <th>Education</th>\n",
              "      <th>EducationField</th>\n",
              "      <th>EnvironmentSatisfaction</th>\n",
              "      <th>HourlyRate</th>\n",
              "      <th>JobInvolvement</th>\n",
              "      <th>...</th>\n",
              "      <th>PerformanceRating</th>\n",
              "      <th>RelationshipSatisfaction</th>\n",
              "      <th>StockOptionLevel</th>\n",
              "      <th>TotalWorkingYears</th>\n",
              "      <th>TrainingTimesLastYear</th>\n",
              "      <th>WorkLifeBalance</th>\n",
              "      <th>YearsAtCompany</th>\n",
              "      <th>YearsInCurrentRole</th>\n",
              "      <th>YearsSinceLastPromotion</th>\n",
              "      <th>YearsWithCurrManager</th>\n",
              "    </tr>\n",
              "  </thead>\n",
              "  <tbody>\n",
              "    <tr>\n",
              "      <th>0</th>\n",
              "      <td>41</td>\n",
              "      <td>Yes</td>\n",
              "      <td>Travel_Rarely</td>\n",
              "      <td>Sales</td>\n",
              "      <td>1</td>\n",
              "      <td>2</td>\n",
              "      <td>Life Sciences</td>\n",
              "      <td>2</td>\n",
              "      <td>94</td>\n",
              "      <td>3</td>\n",
              "      <td>...</td>\n",
              "      <td>3</td>\n",
              "      <td>1</td>\n",
              "      <td>0</td>\n",
              "      <td>8</td>\n",
              "      <td>0</td>\n",
              "      <td>1</td>\n",
              "      <td>6</td>\n",
              "      <td>4</td>\n",
              "      <td>0</td>\n",
              "      <td>5</td>\n",
              "    </tr>\n",
              "    <tr>\n",
              "      <th>1</th>\n",
              "      <td>49</td>\n",
              "      <td>No</td>\n",
              "      <td>Travel_Frequently</td>\n",
              "      <td>Research &amp; Development</td>\n",
              "      <td>8</td>\n",
              "      <td>1</td>\n",
              "      <td>Life Sciences</td>\n",
              "      <td>3</td>\n",
              "      <td>61</td>\n",
              "      <td>2</td>\n",
              "      <td>...</td>\n",
              "      <td>4</td>\n",
              "      <td>4</td>\n",
              "      <td>1</td>\n",
              "      <td>10</td>\n",
              "      <td>3</td>\n",
              "      <td>3</td>\n",
              "      <td>10</td>\n",
              "      <td>7</td>\n",
              "      <td>1</td>\n",
              "      <td>7</td>\n",
              "    </tr>\n",
              "    <tr>\n",
              "      <th>2</th>\n",
              "      <td>37</td>\n",
              "      <td>Yes</td>\n",
              "      <td>Travel_Rarely</td>\n",
              "      <td>Research &amp; Development</td>\n",
              "      <td>2</td>\n",
              "      <td>2</td>\n",
              "      <td>Other</td>\n",
              "      <td>4</td>\n",
              "      <td>92</td>\n",
              "      <td>2</td>\n",
              "      <td>...</td>\n",
              "      <td>3</td>\n",
              "      <td>2</td>\n",
              "      <td>0</td>\n",
              "      <td>7</td>\n",
              "      <td>3</td>\n",
              "      <td>3</td>\n",
              "      <td>0</td>\n",
              "      <td>0</td>\n",
              "      <td>0</td>\n",
              "      <td>0</td>\n",
              "    </tr>\n",
              "    <tr>\n",
              "      <th>3</th>\n",
              "      <td>33</td>\n",
              "      <td>No</td>\n",
              "      <td>Travel_Frequently</td>\n",
              "      <td>Research &amp; Development</td>\n",
              "      <td>3</td>\n",
              "      <td>4</td>\n",
              "      <td>Life Sciences</td>\n",
              "      <td>4</td>\n",
              "      <td>56</td>\n",
              "      <td>3</td>\n",
              "      <td>...</td>\n",
              "      <td>3</td>\n",
              "      <td>3</td>\n",
              "      <td>0</td>\n",
              "      <td>8</td>\n",
              "      <td>3</td>\n",
              "      <td>3</td>\n",
              "      <td>8</td>\n",
              "      <td>7</td>\n",
              "      <td>3</td>\n",
              "      <td>0</td>\n",
              "    </tr>\n",
              "    <tr>\n",
              "      <th>4</th>\n",
              "      <td>27</td>\n",
              "      <td>No</td>\n",
              "      <td>Travel_Rarely</td>\n",
              "      <td>Research &amp; Development</td>\n",
              "      <td>2</td>\n",
              "      <td>1</td>\n",
              "      <td>Medical</td>\n",
              "      <td>1</td>\n",
              "      <td>40</td>\n",
              "      <td>3</td>\n",
              "      <td>...</td>\n",
              "      <td>3</td>\n",
              "      <td>4</td>\n",
              "      <td>1</td>\n",
              "      <td>6</td>\n",
              "      <td>3</td>\n",
              "      <td>3</td>\n",
              "      <td>2</td>\n",
              "      <td>2</td>\n",
              "      <td>2</td>\n",
              "      <td>2</td>\n",
              "    </tr>\n",
              "  </tbody>\n",
              "</table>\n",
              "<p>5 rows × 27 columns</p>\n",
              "</div>"
            ],
            "text/plain": [
              "   Age Attrition     BusinessTravel              Department  DistanceFromHome  \\\n",
              "0   41       Yes      Travel_Rarely                   Sales                 1   \n",
              "1   49        No  Travel_Frequently  Research & Development                 8   \n",
              "2   37       Yes      Travel_Rarely  Research & Development                 2   \n",
              "3   33        No  Travel_Frequently  Research & Development                 3   \n",
              "4   27        No      Travel_Rarely  Research & Development                 2   \n",
              "\n",
              "   Education EducationField  EnvironmentSatisfaction  HourlyRate  \\\n",
              "0          2  Life Sciences                        2          94   \n",
              "1          1  Life Sciences                        3          61   \n",
              "2          2          Other                        4          92   \n",
              "3          4  Life Sciences                        4          56   \n",
              "4          1        Medical                        1          40   \n",
              "\n",
              "   JobInvolvement  ...  PerformanceRating RelationshipSatisfaction  \\\n",
              "0               3  ...                  3                        1   \n",
              "1               2  ...                  4                        4   \n",
              "2               2  ...                  3                        2   \n",
              "3               3  ...                  3                        3   \n",
              "4               3  ...                  3                        4   \n",
              "\n",
              "   StockOptionLevel TotalWorkingYears  TrainingTimesLastYear WorkLifeBalance  \\\n",
              "0                 0                 8                      0               1   \n",
              "1                 1                10                      3               3   \n",
              "2                 0                 7                      3               3   \n",
              "3                 0                 8                      3               3   \n",
              "4                 1                 6                      3               3   \n",
              "\n",
              "   YearsAtCompany  YearsInCurrentRole  YearsSinceLastPromotion  \\\n",
              "0               6                   4                        0   \n",
              "1              10                   7                        1   \n",
              "2               0                   0                        0   \n",
              "3               8                   7                        3   \n",
              "4               2                   2                        2   \n",
              "\n",
              "   YearsWithCurrManager  \n",
              "0                     5  \n",
              "1                     7  \n",
              "2                     0  \n",
              "3                     0  \n",
              "4                     2  \n",
              "\n",
              "[5 rows x 27 columns]"
            ]
          },
          "execution_count": 2,
          "metadata": {},
          "output_type": "execute_result"
        }
      ],
      "source": [
        "# Import our dependencies\n",
        "from sklearn.model_selection import train_test_split\n",
        "from sklearn.preprocessing import StandardScaler\n",
        "import pandas as pd\n",
        "import numpy as np\n",
        "from tensorflow.keras.models import Model\n",
        "from tensorflow.keras import layers\n",
        "\n",
        "#  Import and read the attrition data\n",
        "attrition_df = pd.read_csv('https://static.bc-edx.com/ai/ail-v-1-0/m19/lms/datasets/attrition.csv')\n",
        "attrition_df.head()"
      ]
    },
    {
      "cell_type": "code",
      "execution_count": 3,
      "metadata": {
        "colab": {
          "base_uri": "https://localhost:8080/",
          "height": 931
        },
        "id": "g22aQSY4Gc3Q",
        "outputId": "fccd5aef-357b-41b2-e3af-495d88775c2f"
      },
      "outputs": [
        {
          "data": {
            "text/plain": [
              "Age                         43\n",
              "Attrition                    2\n",
              "BusinessTravel               3\n",
              "Department                   3\n",
              "DistanceFromHome            29\n",
              "Education                    5\n",
              "EducationField               6\n",
              "EnvironmentSatisfaction      4\n",
              "HourlyRate                  71\n",
              "JobInvolvement               4\n",
              "JobLevel                     5\n",
              "JobRole                      9\n",
              "JobSatisfaction              4\n",
              "MaritalStatus                3\n",
              "NumCompaniesWorked          10\n",
              "OverTime                     2\n",
              "PercentSalaryHike           15\n",
              "PerformanceRating            2\n",
              "RelationshipSatisfaction     4\n",
              "StockOptionLevel             4\n",
              "TotalWorkingYears           40\n",
              "TrainingTimesLastYear        7\n",
              "WorkLifeBalance              4\n",
              "YearsAtCompany              37\n",
              "YearsInCurrentRole          19\n",
              "YearsSinceLastPromotion     16\n",
              "YearsWithCurrManager        18\n",
              "dtype: int64"
            ]
          },
          "execution_count": 3,
          "metadata": {},
          "output_type": "execute_result"
        }
      ],
      "source": [
        "# Determine the number of unique values in each column.\n",
        "attrition_df.nunique()"
      ]
    },
    {
      "cell_type": "code",
      "execution_count": 4,
      "metadata": {
        "colab": {
          "base_uri": "https://localhost:8080/",
          "height": 206
        },
        "id": "50vMgBEnJbfM",
        "outputId": "5ddcba9a-16a9-466a-87c7-4d2dcf514c0b"
      },
      "outputs": [
        {
          "data": {
            "text/html": [
              "<div>\n",
              "<style scoped>\n",
              "    .dataframe tbody tr th:only-of-type {\n",
              "        vertical-align: middle;\n",
              "    }\n",
              "\n",
              "    .dataframe tbody tr th {\n",
              "        vertical-align: top;\n",
              "    }\n",
              "\n",
              "    .dataframe thead th {\n",
              "        text-align: right;\n",
              "    }\n",
              "</style>\n",
              "<table border=\"1\" class=\"dataframe\">\n",
              "  <thead>\n",
              "    <tr style=\"text-align: right;\">\n",
              "      <th></th>\n",
              "      <th>Attrition</th>\n",
              "      <th>Department</th>\n",
              "    </tr>\n",
              "  </thead>\n",
              "  <tbody>\n",
              "    <tr>\n",
              "      <th>0</th>\n",
              "      <td>Yes</td>\n",
              "      <td>Sales</td>\n",
              "    </tr>\n",
              "    <tr>\n",
              "      <th>1</th>\n",
              "      <td>No</td>\n",
              "      <td>Research &amp; Development</td>\n",
              "    </tr>\n",
              "    <tr>\n",
              "      <th>2</th>\n",
              "      <td>Yes</td>\n",
              "      <td>Research &amp; Development</td>\n",
              "    </tr>\n",
              "    <tr>\n",
              "      <th>3</th>\n",
              "      <td>No</td>\n",
              "      <td>Research &amp; Development</td>\n",
              "    </tr>\n",
              "    <tr>\n",
              "      <th>4</th>\n",
              "      <td>No</td>\n",
              "      <td>Research &amp; Development</td>\n",
              "    </tr>\n",
              "  </tbody>\n",
              "</table>\n",
              "</div>"
            ],
            "text/plain": [
              "  Attrition              Department\n",
              "0       Yes                   Sales\n",
              "1        No  Research & Development\n",
              "2       Yes  Research & Development\n",
              "3        No  Research & Development\n",
              "4        No  Research & Development"
            ]
          },
          "execution_count": 4,
          "metadata": {},
          "output_type": "execute_result"
        }
      ],
      "source": [
        "# Create y_df with the Attrition and Department columns\n",
        "y_df = attrition_df[['Attrition', 'Department']]\n",
        "y_df.head()\n"
      ]
    },
    {
      "cell_type": "code",
      "execution_count": 5,
      "metadata": {
        "colab": {
          "base_uri": "https://localhost:8080/"
        },
        "id": "Virka0zLGc3R",
        "outputId": "4c3bc5fe-4f74-450a-e20d-06b6c54dcba7"
      },
      "outputs": [
        {
          "name": "stderr",
          "output_type": "stream",
          "text": [
            "/var/folders/34/gb408t050hs97yxysqchcjr00000gn/T/ipykernel_12830/2896403798.py:11: SettingWithCopyWarning: \n",
            "A value is trying to be set on a copy of a slice from a DataFrame.\n",
            "Try using .loc[row_indexer,col_indexer] = value instead\n",
            "\n",
            "See the caveats in the documentation: https://pandas.pydata.org/pandas-docs/stable/user_guide/indexing.html#returning-a-view-versus-a-copy\n",
            "  X_df['OverTime'] = X_df['OverTime'].map({'Yes': 1, 'No': 0}).astype(\"int64\")\n"
          ]
        }
      ],
      "source": [
        "# Create a list of at least 10 column names to use as X data\n",
        "X = ['Education', 'Age', 'DistanceFromHome','JobSatisfaction','OverTime', 'StockOptionLevel', 'WorkLifeBalance', 'YearsAtCompany','YearsSinceLastPromotion','NumCompaniesWorked']\n",
        "\n",
        "\n",
        "# Create X_df using your selected columns\n",
        "X_df = attrition_df[X]\n",
        "X_df.head()\n",
        "\n",
        "# Show the data types for X_df\n",
        "X_df.dtypes\n",
        "X_df['OverTime'] = X_df['OverTime'].map({'Yes': 1, 'No': 0}).astype(\"int64\")\n"
      ]
    },
    {
      "cell_type": "code",
      "execution_count": 6,
      "metadata": {
        "id": "KaJfdOGUMHMR"
      },
      "outputs": [],
      "source": [
        "# Split the data into training and testing sets\n",
        "from sklearn.model_selection import train_test_split\n",
        "\n",
        "X_train, X_test, y_train, y_test = train_test_split(X_df, y_df, random_state=78)"
      ]
    },
    {
      "cell_type": "code",
      "execution_count": 7,
      "metadata": {
        "colab": {
          "base_uri": "https://localhost:8080/",
          "height": 226
        },
        "id": "NYubUJqiLCSp",
        "outputId": "f16b0c34-74de-4638-9eb2-1ea9870e62eb"
      },
      "outputs": [
        {
          "data": {
            "text/html": [
              "<div>\n",
              "<style scoped>\n",
              "    .dataframe tbody tr th:only-of-type {\n",
              "        vertical-align: middle;\n",
              "    }\n",
              "\n",
              "    .dataframe tbody tr th {\n",
              "        vertical-align: top;\n",
              "    }\n",
              "\n",
              "    .dataframe thead th {\n",
              "        text-align: right;\n",
              "    }\n",
              "</style>\n",
              "<table border=\"1\" class=\"dataframe\">\n",
              "  <thead>\n",
              "    <tr style=\"text-align: right;\">\n",
              "      <th></th>\n",
              "      <th>Education</th>\n",
              "      <th>Age</th>\n",
              "      <th>DistanceFromHome</th>\n",
              "      <th>JobSatisfaction</th>\n",
              "      <th>OverTime</th>\n",
              "      <th>StockOptionLevel</th>\n",
              "      <th>WorkLifeBalance</th>\n",
              "      <th>YearsAtCompany</th>\n",
              "      <th>YearsSinceLastPromotion</th>\n",
              "      <th>NumCompaniesWorked</th>\n",
              "    </tr>\n",
              "  </thead>\n",
              "  <tbody>\n",
              "    <tr>\n",
              "      <th>0</th>\n",
              "      <td>2</td>\n",
              "      <td>41</td>\n",
              "      <td>1</td>\n",
              "      <td>4</td>\n",
              "      <td>1</td>\n",
              "      <td>0</td>\n",
              "      <td>1</td>\n",
              "      <td>6</td>\n",
              "      <td>0</td>\n",
              "      <td>8</td>\n",
              "    </tr>\n",
              "    <tr>\n",
              "      <th>1</th>\n",
              "      <td>1</td>\n",
              "      <td>49</td>\n",
              "      <td>8</td>\n",
              "      <td>2</td>\n",
              "      <td>0</td>\n",
              "      <td>1</td>\n",
              "      <td>3</td>\n",
              "      <td>10</td>\n",
              "      <td>1</td>\n",
              "      <td>1</td>\n",
              "    </tr>\n",
              "    <tr>\n",
              "      <th>2</th>\n",
              "      <td>2</td>\n",
              "      <td>37</td>\n",
              "      <td>2</td>\n",
              "      <td>3</td>\n",
              "      <td>1</td>\n",
              "      <td>0</td>\n",
              "      <td>3</td>\n",
              "      <td>0</td>\n",
              "      <td>0</td>\n",
              "      <td>6</td>\n",
              "    </tr>\n",
              "    <tr>\n",
              "      <th>3</th>\n",
              "      <td>4</td>\n",
              "      <td>33</td>\n",
              "      <td>3</td>\n",
              "      <td>3</td>\n",
              "      <td>1</td>\n",
              "      <td>0</td>\n",
              "      <td>3</td>\n",
              "      <td>8</td>\n",
              "      <td>3</td>\n",
              "      <td>1</td>\n",
              "    </tr>\n",
              "    <tr>\n",
              "      <th>4</th>\n",
              "      <td>1</td>\n",
              "      <td>27</td>\n",
              "      <td>2</td>\n",
              "      <td>2</td>\n",
              "      <td>0</td>\n",
              "      <td>1</td>\n",
              "      <td>3</td>\n",
              "      <td>2</td>\n",
              "      <td>2</td>\n",
              "      <td>9</td>\n",
              "    </tr>\n",
              "  </tbody>\n",
              "</table>\n",
              "</div>"
            ],
            "text/plain": [
              "   Education  Age  DistanceFromHome  JobSatisfaction  OverTime  \\\n",
              "0          2   41                 1                4         1   \n",
              "1          1   49                 8                2         0   \n",
              "2          2   37                 2                3         1   \n",
              "3          4   33                 3                3         1   \n",
              "4          1   27                 2                2         0   \n",
              "\n",
              "   StockOptionLevel  WorkLifeBalance  YearsAtCompany  YearsSinceLastPromotion  \\\n",
              "0                 0                1               6                        0   \n",
              "1                 1                3              10                        1   \n",
              "2                 0                3               0                        0   \n",
              "3                 0                3               8                        3   \n",
              "4                 1                3               2                        2   \n",
              "\n",
              "   NumCompaniesWorked  \n",
              "0                   8  \n",
              "1                   1  \n",
              "2                   6  \n",
              "3                   1  \n",
              "4                   9  "
            ]
          },
          "execution_count": 7,
          "metadata": {},
          "output_type": "execute_result"
        }
      ],
      "source": [
        "# Convert your X data to numeric data types however you see fit\n",
        "# Add new code cells as necessary\n",
        "X = pd.get_dummies(X_df)\n",
        "X.head()"
      ]
    },
    {
      "cell_type": "code",
      "execution_count": 8,
      "metadata": {
        "id": "EWA-aIA5Gc3T"
      },
      "outputs": [],
      "source": [
        "# Create a StandardScaler\n",
        "X_scaler = StandardScaler()\n",
        "\n",
        "# Fit the StandardScaler to the training data\n",
        "X_scaler.fit(X_train)\n",
        "\n",
        "# Scale the training and testing data\n",
        "X_train_scaled = X_scaler.transform(X_train)\n",
        "X_test_scaled = X_scaler.transform(X_test)\n"
      ]
    },
    {
      "cell_type": "code",
      "execution_count": 43,
      "metadata": {
        "id": "-z0Mky8vQSz4"
      },
      "outputs": [],
      "source": [
        "# Create a OneHotEncoder for the Department column\n",
        "from sklearn.preprocessing import OneHotEncoder\n",
        "department_encoder = OneHotEncoder(sparse_output=False)\n",
        "\n",
        "# Fit the encoder to the training data\n",
        "department_encoder.fit(y_train[['Department']])\n",
        "\n",
        "# Create two new variables by applying the encoder\n",
        "# to the training and testing data\n",
        "department_encoded_train = department_encoder.transform(y_train[['Department']])\n",
        "department_encoded_test = department_encoder.transform(y_test[['Department']])\n",
        "\n"
      ]
    },
    {
      "cell_type": "code",
      "execution_count": 44,
      "metadata": {
        "id": "-G4DSpvFRrk4"
      },
      "outputs": [],
      "source": [
        "# Create a OneHotEncoder for the Attrition column\n",
        "attrition_encoder = OneHotEncoder(sparse_output=False)\n",
        "\n",
        "# Fit the encoder to the training data\n",
        "attrition_encoder.fit(y_train[['Attrition']])\n",
        "\n",
        "# Create two new variables by applying the encoder\n",
        "# to the training and testing data\n",
        "attrition_encoded_train = attrition_encoder.transform(y_train[['Attrition']])\n",
        "attrition_encoded_test = attrition_encoder.transform(y_test[['Attrition']])\n"
      ]
    },
    {
      "cell_type": "markdown",
      "metadata": {
        "id": "ykNmu_WWGc3T"
      },
      "source": [
        "## Create, Compile, and Train the Model"
      ]
    },
    {
      "cell_type": "code",
      "execution_count": 45,
      "metadata": {
        "id": "WUptZqmSGc3T"
      },
      "outputs": [],
      "source": [
        "# Find the number of columns in the X training data\n",
        "X_train.shape[1]\n",
        "\n",
        "# Create the input layer\n",
        "input_layer = layers.Input(shape=(X.shape[1],), name='input_features')\n",
        "\n",
        "# Create at least two shared layers\n",
        "shared_layer_1 = layers.Dense(units=64, activation='relu', name='shared_layer_1')(input_layer)\n",
        "shared_layer_2 = layers.Dense(units=128, activation='relu', name= 'shared_layer_2')(shared_layer_1)\n"
      ]
    },
    {
      "cell_type": "code",
      "execution_count": 46,
      "metadata": {
        "id": "JukjTm2yTEqd"
      },
      "outputs": [],
      "source": [
        "# Create a branch for Department\n",
        "# with a hidden layer and an output layer\n",
        "# Create the hidden layer\n",
        "department_hidden = layers.Dense(units=32, activation='relu', name='department_hidden')(shared_layer_2)\n",
        "\n",
        "# Create the output layer\n",
        "department_output = layers.Dense(3,\n",
        "                             activation='softmax',\n",
        "                             name='department_output')(department_hidden)\n"
      ]
    },
    {
      "cell_type": "code",
      "execution_count": 47,
      "metadata": {
        "id": "9OqhUiOJUBkR"
      },
      "outputs": [],
      "source": [
        "# Create a branch for Attrition\n",
        "# with a hidden layer and an output layer\n",
        "# Create the hidden layer\n",
        "attrition_hidden = layers.Dense(units=32, activation='relu', name='attrition_hidden')(shared_layer_2)\n",
        "\n",
        "# Create the output layer\n",
        "attrition_output = layers.Dense(units=2,\n",
        "                             activation='sigmoid',\n",
        "                             name='attrition_output')(attrition_hidden)\n"
      ]
    },
    {
      "cell_type": "code",
      "execution_count": 48,
      "metadata": {
        "colab": {
          "base_uri": "https://localhost:8080/",
          "height": 380
        },
        "id": "twmuejdxGc3T",
        "outputId": "47221e5b-1bb1-4ea2-e581-21e8c3336e19"
      },
      "outputs": [
        {
          "name": "stdout",
          "output_type": "stream",
          "text": [
            "Model: \"model_4\"\n",
            "__________________________________________________________________________________________________\n",
            " Layer (type)                   Output Shape         Param #     Connected to                     \n",
            "==================================================================================================\n",
            " input_features (InputLayer)    [(None, 10)]         0           []                               \n",
            "                                                                                                  \n",
            " shared_layer_1 (Dense)         (None, 64)           704         ['input_features[0][0]']         \n",
            "                                                                                                  \n",
            " shared_layer_2 (Dense)         (None, 128)          8320        ['shared_layer_1[0][0]']         \n",
            "                                                                                                  \n",
            " department_hidden (Dense)      (None, 32)           4128        ['shared_layer_2[0][0]']         \n",
            "                                                                                                  \n",
            " attrition_hidden (Dense)       (None, 32)           4128        ['shared_layer_2[0][0]']         \n",
            "                                                                                                  \n",
            " department_output (Dense)      (None, 3)            99          ['department_hidden[0][0]']      \n",
            "                                                                                                  \n",
            " attrition_output (Dense)       (None, 2)            66          ['attrition_hidden[0][0]']       \n",
            "                                                                                                  \n",
            "==================================================================================================\n",
            "Total params: 17,445\n",
            "Trainable params: 17,445\n",
            "Non-trainable params: 0\n",
            "__________________________________________________________________________________________________\n"
          ]
        }
      ],
      "source": [
        "# Create the model\n",
        "model = Model(inputs=input_layer, outputs=[\n",
        "    department_output,\n",
        "    attrition_output\n",
        "])\n",
        "\n",
        "# Compile the model\n",
        "model.compile(optimizer='adam',\n",
        "              loss={'department_output': 'categorical_crossentropy',\n",
        "                    'attrition_output': 'binary_crossentropy',\n",
        "                    },\n",
        "              metrics={'department_output': 'accuracy',\n",
        "                       'attrition_output': 'accuracy',\n",
        "                       })\n",
        "\n",
        "# Summarize the model\n",
        "summarize_model = model.summary()\n",
        "summarize_model"
      ]
    },
    {
      "cell_type": "code",
      "execution_count": 55,
      "metadata": {
        "colab": {
          "base_uri": "https://localhost:8080/",
          "height": 400
        },
        "id": "c8oGy0dpGc3U",
        "outputId": "9e2517ae-8e88-49c5-a735-6bd3fd1b9c33"
      },
      "outputs": [
        {
          "name": "stdout",
          "output_type": "stream",
          "text": [
            "Epoch 1/100\n",
            "26/26 [==============================] - 0s 2ms/step - loss: 0.4700 - department_output_loss: 0.3609 - attrition_output_loss: 0.1091 - department_output_accuracy: 0.8456 - attrition_output_accuracy: 0.9659 - val_loss: 2.5356 - val_department_output_loss: 1.7962 - val_attrition_output_loss: 0.7395 - val_department_output_accuracy: 0.5792 - val_attrition_output_accuracy: 0.7873\n",
            "Epoch 2/100\n",
            "26/26 [==============================] - 0s 2ms/step - loss: 0.4825 - department_output_loss: 0.3642 - attrition_output_loss: 0.1183 - department_output_accuracy: 0.8434 - attrition_output_accuracy: 0.9625 - val_loss: 2.4942 - val_department_output_loss: 1.7859 - val_attrition_output_loss: 0.7082 - val_department_output_accuracy: 0.5611 - val_attrition_output_accuracy: 0.8552\n",
            "Epoch 3/100\n",
            "26/26 [==============================] - 0s 1ms/step - loss: 0.4738 - department_output_loss: 0.3538 - attrition_output_loss: 0.1201 - department_output_accuracy: 0.8502 - attrition_output_accuracy: 0.9569 - val_loss: 2.5548 - val_department_output_loss: 1.6981 - val_attrition_output_loss: 0.8567 - val_department_output_accuracy: 0.5747 - val_attrition_output_accuracy: 0.7195\n",
            "Epoch 4/100\n",
            "26/26 [==============================] - 0s 2ms/step - loss: 0.4886 - department_output_loss: 0.3569 - attrition_output_loss: 0.1317 - department_output_accuracy: 0.8524 - attrition_output_accuracy: 0.9421 - val_loss: 2.3870 - val_department_output_loss: 1.6953 - val_attrition_output_loss: 0.6916 - val_department_output_accuracy: 0.5928 - val_attrition_output_accuracy: 0.8597\n",
            "Epoch 5/100\n",
            "26/26 [==============================] - 0s 2ms/step - loss: 0.4570 - department_output_loss: 0.3464 - attrition_output_loss: 0.1105 - department_output_accuracy: 0.8581 - attrition_output_accuracy: 0.9637 - val_loss: 2.5074 - val_department_output_loss: 1.7584 - val_attrition_output_loss: 0.7489 - val_department_output_accuracy: 0.5747 - val_attrition_output_accuracy: 0.8326\n",
            "Epoch 6/100\n",
            "26/26 [==============================] - 0s 2ms/step - loss: 0.4626 - department_output_loss: 0.3579 - attrition_output_loss: 0.1047 - department_output_accuracy: 0.8547 - attrition_output_accuracy: 0.9659 - val_loss: 2.5881 - val_department_output_loss: 1.7639 - val_attrition_output_loss: 0.8242 - val_department_output_accuracy: 0.5928 - val_attrition_output_accuracy: 0.8009\n",
            "Epoch 7/100\n",
            "26/26 [==============================] - 0s 2ms/step - loss: 0.4616 - department_output_loss: 0.3473 - attrition_output_loss: 0.1143 - department_output_accuracy: 0.8468 - attrition_output_accuracy: 0.9603 - val_loss: 2.6415 - val_department_output_loss: 1.8545 - val_attrition_output_loss: 0.7870 - val_department_output_accuracy: 0.5656 - val_attrition_output_accuracy: 0.8009\n",
            "Epoch 8/100\n",
            "26/26 [==============================] - 0s 2ms/step - loss: 0.4601 - department_output_loss: 0.3499 - attrition_output_loss: 0.1102 - department_output_accuracy: 0.8627 - attrition_output_accuracy: 0.9659 - val_loss: 2.5139 - val_department_output_loss: 1.7326 - val_attrition_output_loss: 0.7813 - val_department_output_accuracy: 0.5882 - val_attrition_output_accuracy: 0.8462\n",
            "Epoch 9/100\n",
            "26/26 [==============================] - 0s 2ms/step - loss: 0.4513 - department_output_loss: 0.3410 - attrition_output_loss: 0.1103 - department_output_accuracy: 0.8547 - attrition_output_accuracy: 0.9614 - val_loss: 2.5600 - val_department_output_loss: 1.7678 - val_attrition_output_loss: 0.7922 - val_department_output_accuracy: 0.6018 - val_attrition_output_accuracy: 0.7873\n",
            "Epoch 10/100\n",
            "26/26 [==============================] - 0s 2ms/step - loss: 0.4552 - department_output_loss: 0.3431 - attrition_output_loss: 0.1121 - department_output_accuracy: 0.8570 - attrition_output_accuracy: 0.9625 - val_loss: 2.5498 - val_department_output_loss: 1.7925 - val_attrition_output_loss: 0.7573 - val_department_output_accuracy: 0.5882 - val_attrition_output_accuracy: 0.8462\n",
            "Epoch 11/100\n",
            "26/26 [==============================] - 0s 2ms/step - loss: 0.4565 - department_output_loss: 0.3378 - attrition_output_loss: 0.1188 - department_output_accuracy: 0.8536 - attrition_output_accuracy: 0.9523 - val_loss: 2.6048 - val_department_output_loss: 1.7972 - val_attrition_output_loss: 0.8076 - val_department_output_accuracy: 0.5837 - val_attrition_output_accuracy: 0.7738\n",
            "Epoch 12/100\n",
            "26/26 [==============================] - 0s 2ms/step - loss: 0.4641 - department_output_loss: 0.3419 - attrition_output_loss: 0.1222 - department_output_accuracy: 0.8570 - attrition_output_accuracy: 0.9557 - val_loss: 2.5688 - val_department_output_loss: 1.8108 - val_attrition_output_loss: 0.7580 - val_department_output_accuracy: 0.5882 - val_attrition_output_accuracy: 0.8281\n",
            "Epoch 13/100\n",
            "26/26 [==============================] - 0s 2ms/step - loss: 0.4682 - department_output_loss: 0.3555 - attrition_output_loss: 0.1126 - department_output_accuracy: 0.8502 - attrition_output_accuracy: 0.9603 - val_loss: 2.6899 - val_department_output_loss: 1.9012 - val_attrition_output_loss: 0.7887 - val_department_output_accuracy: 0.5792 - val_attrition_output_accuracy: 0.8009\n",
            "Epoch 14/100\n",
            "26/26 [==============================] - 0s 2ms/step - loss: 0.4423 - department_output_loss: 0.3365 - attrition_output_loss: 0.1058 - department_output_accuracy: 0.8593 - attrition_output_accuracy: 0.9637 - val_loss: 2.7649 - val_department_output_loss: 1.8919 - val_attrition_output_loss: 0.8730 - val_department_output_accuracy: 0.5611 - val_attrition_output_accuracy: 0.8100\n",
            "Epoch 15/100\n",
            "26/26 [==============================] - 0s 2ms/step - loss: 0.4790 - department_output_loss: 0.3627 - attrition_output_loss: 0.1163 - department_output_accuracy: 0.8513 - attrition_output_accuracy: 0.9569 - val_loss: 2.6893 - val_department_output_loss: 1.8849 - val_attrition_output_loss: 0.8044 - val_department_output_accuracy: 0.5837 - val_attrition_output_accuracy: 0.8054\n",
            "Epoch 16/100\n",
            "26/26 [==============================] - 0s 2ms/step - loss: 0.4808 - department_output_loss: 0.3655 - attrition_output_loss: 0.1153 - department_output_accuracy: 0.8343 - attrition_output_accuracy: 0.9546 - val_loss: 2.6434 - val_department_output_loss: 1.8488 - val_attrition_output_loss: 0.7946 - val_department_output_accuracy: 0.5475 - val_attrition_output_accuracy: 0.7783\n",
            "Epoch 17/100\n",
            "26/26 [==============================] - 0s 2ms/step - loss: 0.4545 - department_output_loss: 0.3472 - attrition_output_loss: 0.1073 - department_output_accuracy: 0.8502 - attrition_output_accuracy: 0.9637 - val_loss: 2.5068 - val_department_output_loss: 1.7515 - val_attrition_output_loss: 0.7553 - val_department_output_accuracy: 0.5656 - val_attrition_output_accuracy: 0.8145\n",
            "Epoch 18/100\n",
            "26/26 [==============================] - 0s 3ms/step - loss: 0.4256 - department_output_loss: 0.3284 - attrition_output_loss: 0.0972 - department_output_accuracy: 0.8797 - attrition_output_accuracy: 0.9705 - val_loss: 2.5226 - val_department_output_loss: 1.7763 - val_attrition_output_loss: 0.7463 - val_department_output_accuracy: 0.6109 - val_attrition_output_accuracy: 0.8552\n",
            "Epoch 19/100\n",
            "26/26 [==============================] - 0s 2ms/step - loss: 0.4368 - department_output_loss: 0.3322 - attrition_output_loss: 0.1045 - department_output_accuracy: 0.8593 - attrition_output_accuracy: 0.9682 - val_loss: 2.6591 - val_department_output_loss: 1.8477 - val_attrition_output_loss: 0.8114 - val_department_output_accuracy: 0.5882 - val_attrition_output_accuracy: 0.8371\n",
            "Epoch 20/100\n",
            "26/26 [==============================] - 0s 2ms/step - loss: 0.4333 - department_output_loss: 0.3209 - attrition_output_loss: 0.1124 - department_output_accuracy: 0.8672 - attrition_output_accuracy: 0.9557 - val_loss: 2.7425 - val_department_output_loss: 1.9382 - val_attrition_output_loss: 0.8043 - val_department_output_accuracy: 0.5837 - val_attrition_output_accuracy: 0.8371\n",
            "Epoch 21/100\n",
            "26/26 [==============================] - 0s 2ms/step - loss: 0.4804 - department_output_loss: 0.3352 - attrition_output_loss: 0.1452 - department_output_accuracy: 0.8638 - attrition_output_accuracy: 0.9489 - val_loss: 2.5627 - val_department_output_loss: 1.8233 - val_attrition_output_loss: 0.7394 - val_department_output_accuracy: 0.5701 - val_attrition_output_accuracy: 0.8190\n",
            "Epoch 22/100\n",
            "26/26 [==============================] - 0s 2ms/step - loss: 0.4363 - department_output_loss: 0.3258 - attrition_output_loss: 0.1105 - department_output_accuracy: 0.8706 - attrition_output_accuracy: 0.9659 - val_loss: 2.7012 - val_department_output_loss: 1.8973 - val_attrition_output_loss: 0.8038 - val_department_output_accuracy: 0.5792 - val_attrition_output_accuracy: 0.8054\n",
            "Epoch 23/100\n",
            "26/26 [==============================] - 0s 2ms/step - loss: 0.4168 - department_output_loss: 0.3211 - attrition_output_loss: 0.0956 - department_output_accuracy: 0.8774 - attrition_output_accuracy: 0.9705 - val_loss: 2.7069 - val_department_output_loss: 1.9063 - val_attrition_output_loss: 0.8006 - val_department_output_accuracy: 0.5792 - val_attrition_output_accuracy: 0.8552\n",
            "Epoch 24/100\n",
            "26/26 [==============================] - 0s 2ms/step - loss: 0.4633 - department_output_loss: 0.3657 - attrition_output_loss: 0.0976 - department_output_accuracy: 0.8400 - attrition_output_accuracy: 0.9659 - val_loss: 2.6797 - val_department_output_loss: 1.8454 - val_attrition_output_loss: 0.8343 - val_department_output_accuracy: 0.5837 - val_attrition_output_accuracy: 0.8100\n",
            "Epoch 25/100\n",
            "26/26 [==============================] - 0s 1ms/step - loss: 0.4433 - department_output_loss: 0.3254 - attrition_output_loss: 0.1179 - department_output_accuracy: 0.8649 - attrition_output_accuracy: 0.9614 - val_loss: 2.7545 - val_department_output_loss: 1.9097 - val_attrition_output_loss: 0.8448 - val_department_output_accuracy: 0.5430 - val_attrition_output_accuracy: 0.7828\n",
            "Epoch 26/100\n",
            "26/26 [==============================] - 0s 2ms/step - loss: 0.4160 - department_output_loss: 0.3194 - attrition_output_loss: 0.0966 - department_output_accuracy: 0.8729 - attrition_output_accuracy: 0.9762 - val_loss: 2.7412 - val_department_output_loss: 1.9056 - val_attrition_output_loss: 0.8356 - val_department_output_accuracy: 0.5882 - val_attrition_output_accuracy: 0.8281\n",
            "Epoch 27/100\n",
            "26/26 [==============================] - 0s 2ms/step - loss: 0.4275 - department_output_loss: 0.3326 - attrition_output_loss: 0.0949 - department_output_accuracy: 0.8627 - attrition_output_accuracy: 0.9694 - val_loss: 2.7973 - val_department_output_loss: 1.9441 - val_attrition_output_loss: 0.8532 - val_department_output_accuracy: 0.5747 - val_attrition_output_accuracy: 0.7873\n",
            "Epoch 28/100\n",
            "26/26 [==============================] - 0s 2ms/step - loss: 0.4081 - department_output_loss: 0.3160 - attrition_output_loss: 0.0922 - department_output_accuracy: 0.8695 - attrition_output_accuracy: 0.9750 - val_loss: 2.7837 - val_department_output_loss: 1.9324 - val_attrition_output_loss: 0.8513 - val_department_output_accuracy: 0.5747 - val_attrition_output_accuracy: 0.7919\n",
            "Epoch 29/100\n",
            "26/26 [==============================] - 0s 2ms/step - loss: 0.4151 - department_output_loss: 0.3206 - attrition_output_loss: 0.0945 - department_output_accuracy: 0.8615 - attrition_output_accuracy: 0.9694 - val_loss: 2.6816 - val_department_output_loss: 1.9039 - val_attrition_output_loss: 0.7776 - val_department_output_accuracy: 0.5792 - val_attrition_output_accuracy: 0.8507\n",
            "Epoch 30/100\n",
            "26/26 [==============================] - 0s 1ms/step - loss: 0.4197 - department_output_loss: 0.3143 - attrition_output_loss: 0.1054 - department_output_accuracy: 0.8785 - attrition_output_accuracy: 0.9614 - val_loss: 2.8612 - val_department_output_loss: 1.9537 - val_attrition_output_loss: 0.9075 - val_department_output_accuracy: 0.5882 - val_attrition_output_accuracy: 0.8190\n",
            "Epoch 31/100\n",
            "26/26 [==============================] - 0s 2ms/step - loss: 0.3893 - department_output_loss: 0.3013 - attrition_output_loss: 0.0880 - department_output_accuracy: 0.8785 - attrition_output_accuracy: 0.9728 - val_loss: 2.7020 - val_department_output_loss: 1.9283 - val_attrition_output_loss: 0.7738 - val_department_output_accuracy: 0.5520 - val_attrition_output_accuracy: 0.7919\n",
            "Epoch 32/100\n",
            "26/26 [==============================] - 0s 1ms/step - loss: 0.3864 - department_output_loss: 0.3012 - attrition_output_loss: 0.0851 - department_output_accuracy: 0.8729 - attrition_output_accuracy: 0.9750 - val_loss: 2.8681 - val_department_output_loss: 2.0165 - val_attrition_output_loss: 0.8517 - val_department_output_accuracy: 0.5792 - val_attrition_output_accuracy: 0.8326\n",
            "Epoch 33/100\n",
            "26/26 [==============================] - 0s 2ms/step - loss: 0.4027 - department_output_loss: 0.2950 - attrition_output_loss: 0.1077 - department_output_accuracy: 0.8842 - attrition_output_accuracy: 0.9614 - val_loss: 2.8319 - val_department_output_loss: 2.0019 - val_attrition_output_loss: 0.8300 - val_department_output_accuracy: 0.5701 - val_attrition_output_accuracy: 0.8009\n",
            "Epoch 34/100\n",
            "26/26 [==============================] - 0s 2ms/step - loss: 0.3972 - department_output_loss: 0.2920 - attrition_output_loss: 0.1052 - department_output_accuracy: 0.8706 - attrition_output_accuracy: 0.9637 - val_loss: 2.8453 - val_department_output_loss: 2.0257 - val_attrition_output_loss: 0.8196 - val_department_output_accuracy: 0.5656 - val_attrition_output_accuracy: 0.8552\n",
            "Epoch 35/100\n",
            "26/26 [==============================] - 0s 2ms/step - loss: 0.3974 - department_output_loss: 0.2931 - attrition_output_loss: 0.1043 - department_output_accuracy: 0.8808 - attrition_output_accuracy: 0.9557 - val_loss: 2.7936 - val_department_output_loss: 1.9506 - val_attrition_output_loss: 0.8431 - val_department_output_accuracy: 0.5385 - val_attrition_output_accuracy: 0.8190\n",
            "Epoch 36/100\n",
            "26/26 [==============================] - 0s 2ms/step - loss: 0.3905 - department_output_loss: 0.3054 - attrition_output_loss: 0.0851 - department_output_accuracy: 0.8842 - attrition_output_accuracy: 0.9716 - val_loss: 2.8531 - val_department_output_loss: 1.9941 - val_attrition_output_loss: 0.8591 - val_department_output_accuracy: 0.5475 - val_attrition_output_accuracy: 0.8190\n",
            "Epoch 37/100\n",
            "26/26 [==============================] - 0s 1ms/step - loss: 0.3979 - department_output_loss: 0.3062 - attrition_output_loss: 0.0917 - department_output_accuracy: 0.8876 - attrition_output_accuracy: 0.9682 - val_loss: 2.8089 - val_department_output_loss: 1.9906 - val_attrition_output_loss: 0.8183 - val_department_output_accuracy: 0.5837 - val_attrition_output_accuracy: 0.8100\n",
            "Epoch 38/100\n",
            "26/26 [==============================] - 0s 3ms/step - loss: 0.3975 - department_output_loss: 0.2982 - attrition_output_loss: 0.0993 - department_output_accuracy: 0.8842 - attrition_output_accuracy: 0.9637 - val_loss: 2.8472 - val_department_output_loss: 1.9889 - val_attrition_output_loss: 0.8583 - val_department_output_accuracy: 0.5611 - val_attrition_output_accuracy: 0.8326\n",
            "Epoch 39/100\n",
            "26/26 [==============================] - 0s 2ms/step - loss: 0.3774 - department_output_loss: 0.2913 - attrition_output_loss: 0.0861 - department_output_accuracy: 0.8820 - attrition_output_accuracy: 0.9671 - val_loss: 3.0138 - val_department_output_loss: 2.0468 - val_attrition_output_loss: 0.9670 - val_department_output_accuracy: 0.5475 - val_attrition_output_accuracy: 0.7828\n",
            "Epoch 40/100\n",
            "26/26 [==============================] - 0s 2ms/step - loss: 0.4000 - department_output_loss: 0.2983 - attrition_output_loss: 0.1017 - department_output_accuracy: 0.8661 - attrition_output_accuracy: 0.9625 - val_loss: 2.9145 - val_department_output_loss: 2.0666 - val_attrition_output_loss: 0.8479 - val_department_output_accuracy: 0.5882 - val_attrition_output_accuracy: 0.8054\n",
            "Epoch 41/100\n",
            "26/26 [==============================] - 0s 1ms/step - loss: 0.4304 - department_output_loss: 0.3278 - attrition_output_loss: 0.1026 - department_output_accuracy: 0.8706 - attrition_output_accuracy: 0.9637 - val_loss: 2.9595 - val_department_output_loss: 2.0502 - val_attrition_output_loss: 0.9093 - val_department_output_accuracy: 0.5611 - val_attrition_output_accuracy: 0.7828\n",
            "Epoch 42/100\n",
            "26/26 [==============================] - 0s 2ms/step - loss: 0.4106 - department_output_loss: 0.3199 - attrition_output_loss: 0.0907 - department_output_accuracy: 0.8740 - attrition_output_accuracy: 0.9694 - val_loss: 2.9604 - val_department_output_loss: 2.1377 - val_attrition_output_loss: 0.8227 - val_department_output_accuracy: 0.5882 - val_attrition_output_accuracy: 0.8326\n",
            "Epoch 43/100\n",
            "26/26 [==============================] - 0s 1ms/step - loss: 0.4416 - department_output_loss: 0.3360 - attrition_output_loss: 0.1056 - department_output_accuracy: 0.8547 - attrition_output_accuracy: 0.9648 - val_loss: 3.0499 - val_department_output_loss: 2.1913 - val_attrition_output_loss: 0.8586 - val_department_output_accuracy: 0.5792 - val_attrition_output_accuracy: 0.8235\n",
            "Epoch 44/100\n",
            "26/26 [==============================] - 0s 2ms/step - loss: 0.4093 - department_output_loss: 0.3203 - attrition_output_loss: 0.0889 - department_output_accuracy: 0.8581 - attrition_output_accuracy: 0.9682 - val_loss: 2.8976 - val_department_output_loss: 2.0513 - val_attrition_output_loss: 0.8464 - val_department_output_accuracy: 0.5611 - val_attrition_output_accuracy: 0.7964\n",
            "Epoch 45/100\n",
            "26/26 [==============================] - 0s 2ms/step - loss: 0.4590 - department_output_loss: 0.2919 - attrition_output_loss: 0.1671 - department_output_accuracy: 0.8910 - attrition_output_accuracy: 0.9353 - val_loss: 3.0674 - val_department_output_loss: 2.1542 - val_attrition_output_loss: 0.9132 - val_department_output_accuracy: 0.6063 - val_attrition_output_accuracy: 0.8552\n",
            "Epoch 46/100\n",
            "26/26 [==============================] - 0s 2ms/step - loss: 0.3962 - department_output_loss: 0.2803 - attrition_output_loss: 0.1159 - department_output_accuracy: 0.8774 - attrition_output_accuracy: 0.9557 - val_loss: 3.1769 - val_department_output_loss: 2.1937 - val_attrition_output_loss: 0.9832 - val_department_output_accuracy: 0.5520 - val_attrition_output_accuracy: 0.7738\n",
            "Epoch 47/100\n",
            "26/26 [==============================] - 0s 1ms/step - loss: 0.3518 - department_output_loss: 0.2724 - attrition_output_loss: 0.0794 - department_output_accuracy: 0.8922 - attrition_output_accuracy: 0.9750 - val_loss: 3.0866 - val_department_output_loss: 2.2113 - val_attrition_output_loss: 0.8753 - val_department_output_accuracy: 0.5882 - val_attrition_output_accuracy: 0.8371\n",
            "Epoch 48/100\n",
            "26/26 [==============================] - 0s 2ms/step - loss: 0.3574 - department_output_loss: 0.2780 - attrition_output_loss: 0.0794 - department_output_accuracy: 0.8865 - attrition_output_accuracy: 0.9728 - val_loss: 3.1815 - val_department_output_loss: 2.2056 - val_attrition_output_loss: 0.9759 - val_department_output_accuracy: 0.5520 - val_attrition_output_accuracy: 0.8371\n",
            "Epoch 49/100\n",
            "26/26 [==============================] - 0s 2ms/step - loss: 0.3651 - department_output_loss: 0.2758 - attrition_output_loss: 0.0893 - department_output_accuracy: 0.8922 - attrition_output_accuracy: 0.9694 - val_loss: 3.1688 - val_department_output_loss: 2.2193 - val_attrition_output_loss: 0.9495 - val_department_output_accuracy: 0.5792 - val_attrition_output_accuracy: 0.8100\n",
            "Epoch 50/100\n",
            "26/26 [==============================] - 0s 1ms/step - loss: 0.3568 - department_output_loss: 0.2751 - attrition_output_loss: 0.0817 - department_output_accuracy: 0.8888 - attrition_output_accuracy: 0.9796 - val_loss: 3.2027 - val_department_output_loss: 2.2219 - val_attrition_output_loss: 0.9808 - val_department_output_accuracy: 0.5475 - val_attrition_output_accuracy: 0.7964\n",
            "Epoch 51/100\n",
            "26/26 [==============================] - 0s 1ms/step - loss: 0.3590 - department_output_loss: 0.2786 - attrition_output_loss: 0.0804 - department_output_accuracy: 0.8899 - attrition_output_accuracy: 0.9762 - val_loss: 3.1668 - val_department_output_loss: 2.2247 - val_attrition_output_loss: 0.9421 - val_department_output_accuracy: 0.5747 - val_attrition_output_accuracy: 0.8281\n",
            "Epoch 52/100\n",
            "26/26 [==============================] - 0s 1ms/step - loss: 0.3565 - department_output_loss: 0.2684 - attrition_output_loss: 0.0882 - department_output_accuracy: 0.8899 - attrition_output_accuracy: 0.9603 - val_loss: 3.1091 - val_department_output_loss: 2.1856 - val_attrition_output_loss: 0.9235 - val_department_output_accuracy: 0.5656 - val_attrition_output_accuracy: 0.8326\n",
            "Epoch 53/100\n",
            "26/26 [==============================] - 0s 1ms/step - loss: 0.3536 - department_output_loss: 0.2653 - attrition_output_loss: 0.0883 - department_output_accuracy: 0.8990 - attrition_output_accuracy: 0.9671 - val_loss: 3.2250 - val_department_output_loss: 2.2379 - val_attrition_output_loss: 0.9871 - val_department_output_accuracy: 0.5928 - val_attrition_output_accuracy: 0.7873\n",
            "Epoch 54/100\n",
            "26/26 [==============================] - 0s 2ms/step - loss: 0.3422 - department_output_loss: 0.2688 - attrition_output_loss: 0.0734 - department_output_accuracy: 0.8888 - attrition_output_accuracy: 0.9784 - val_loss: 3.1446 - val_department_output_loss: 2.2166 - val_attrition_output_loss: 0.9280 - val_department_output_accuracy: 0.5837 - val_attrition_output_accuracy: 0.8235\n",
            "Epoch 55/100\n",
            "26/26 [==============================] - 0s 2ms/step - loss: 0.3326 - department_output_loss: 0.2580 - attrition_output_loss: 0.0747 - department_output_accuracy: 0.8967 - attrition_output_accuracy: 0.9728 - val_loss: 3.1647 - val_department_output_loss: 2.2140 - val_attrition_output_loss: 0.9507 - val_department_output_accuracy: 0.5973 - val_attrition_output_accuracy: 0.8100\n",
            "Epoch 56/100\n",
            "26/26 [==============================] - 0s 2ms/step - loss: 0.3485 - department_output_loss: 0.2709 - attrition_output_loss: 0.0776 - department_output_accuracy: 0.8876 - attrition_output_accuracy: 0.9716 - val_loss: 3.0849 - val_department_output_loss: 2.1719 - val_attrition_output_loss: 0.9130 - val_department_output_accuracy: 0.5837 - val_attrition_output_accuracy: 0.8100\n",
            "Epoch 57/100\n",
            "26/26 [==============================] - 0s 2ms/step - loss: 0.3399 - department_output_loss: 0.2679 - attrition_output_loss: 0.0721 - department_output_accuracy: 0.8876 - attrition_output_accuracy: 0.9807 - val_loss: 3.2640 - val_department_output_loss: 2.2799 - val_attrition_output_loss: 0.9841 - val_department_output_accuracy: 0.5928 - val_attrition_output_accuracy: 0.7873\n",
            "Epoch 58/100\n",
            "26/26 [==============================] - 0s 2ms/step - loss: 0.3232 - department_output_loss: 0.2501 - attrition_output_loss: 0.0731 - department_output_accuracy: 0.9047 - attrition_output_accuracy: 0.9773 - val_loss: 3.1071 - val_department_output_loss: 2.1940 - val_attrition_output_loss: 0.9131 - val_department_output_accuracy: 0.5792 - val_attrition_output_accuracy: 0.8054\n",
            "Epoch 59/100\n",
            "26/26 [==============================] - 0s 3ms/step - loss: 0.3435 - department_output_loss: 0.2659 - attrition_output_loss: 0.0776 - department_output_accuracy: 0.8978 - attrition_output_accuracy: 0.9728 - val_loss: 3.3481 - val_department_output_loss: 2.2552 - val_attrition_output_loss: 1.0929 - val_department_output_accuracy: 0.5792 - val_attrition_output_accuracy: 0.7421\n",
            "Epoch 60/100\n",
            "26/26 [==============================] - 0s 2ms/step - loss: 0.3422 - department_output_loss: 0.2487 - attrition_output_loss: 0.0935 - department_output_accuracy: 0.8990 - attrition_output_accuracy: 0.9648 - val_loss: 3.3133 - val_department_output_loss: 2.3942 - val_attrition_output_loss: 0.9191 - val_department_output_accuracy: 0.5475 - val_attrition_output_accuracy: 0.8235\n",
            "Epoch 61/100\n",
            "26/26 [==============================] - 0s 2ms/step - loss: 0.3283 - department_output_loss: 0.2604 - attrition_output_loss: 0.0679 - department_output_accuracy: 0.8978 - attrition_output_accuracy: 0.9773 - val_loss: 3.3567 - val_department_output_loss: 2.3904 - val_attrition_output_loss: 0.9664 - val_department_output_accuracy: 0.5837 - val_attrition_output_accuracy: 0.8145\n",
            "Epoch 62/100\n",
            "26/26 [==============================] - 0s 2ms/step - loss: 0.3164 - department_output_loss: 0.2448 - attrition_output_loss: 0.0716 - department_output_accuracy: 0.8978 - attrition_output_accuracy: 0.9773 - val_loss: 3.2849 - val_department_output_loss: 2.3135 - val_attrition_output_loss: 0.9713 - val_department_output_accuracy: 0.5701 - val_attrition_output_accuracy: 0.8190\n",
            "Epoch 63/100\n",
            "26/26 [==============================] - 0s 1ms/step - loss: 0.3062 - department_output_loss: 0.2354 - attrition_output_loss: 0.0708 - department_output_accuracy: 0.9149 - attrition_output_accuracy: 0.9750 - val_loss: 3.2925 - val_department_output_loss: 2.3421 - val_attrition_output_loss: 0.9504 - val_department_output_accuracy: 0.5611 - val_attrition_output_accuracy: 0.8145\n",
            "Epoch 64/100\n",
            "26/26 [==============================] - 0s 2ms/step - loss: 0.3247 - department_output_loss: 0.2469 - attrition_output_loss: 0.0777 - department_output_accuracy: 0.9012 - attrition_output_accuracy: 0.9762 - val_loss: 3.3637 - val_department_output_loss: 2.3162 - val_attrition_output_loss: 1.0475 - val_department_output_accuracy: 0.5656 - val_attrition_output_accuracy: 0.7828\n",
            "Epoch 65/100\n",
            "26/26 [==============================] - 0s 2ms/step - loss: 0.3073 - department_output_loss: 0.2423 - attrition_output_loss: 0.0651 - department_output_accuracy: 0.9047 - attrition_output_accuracy: 0.9773 - val_loss: 3.3560 - val_department_output_loss: 2.3238 - val_attrition_output_loss: 1.0322 - val_department_output_accuracy: 0.5339 - val_attrition_output_accuracy: 0.7738\n",
            "Epoch 66/100\n",
            "26/26 [==============================] - 0s 2ms/step - loss: 0.3758 - department_output_loss: 0.3016 - attrition_output_loss: 0.0741 - department_output_accuracy: 0.8558 - attrition_output_accuracy: 0.9796 - val_loss: 3.5009 - val_department_output_loss: 2.3842 - val_attrition_output_loss: 1.1167 - val_department_output_accuracy: 0.5430 - val_attrition_output_accuracy: 0.7692\n",
            "Epoch 67/100\n",
            "26/26 [==============================] - 0s 2ms/step - loss: 0.4254 - department_output_loss: 0.3067 - attrition_output_loss: 0.1187 - department_output_accuracy: 0.8672 - attrition_output_accuracy: 0.9659 - val_loss: 3.1885 - val_department_output_loss: 2.1783 - val_attrition_output_loss: 1.0102 - val_department_output_accuracy: 0.5656 - val_attrition_output_accuracy: 0.7692\n",
            "Epoch 68/100\n",
            "26/26 [==============================] - 0s 2ms/step - loss: 0.3967 - department_output_loss: 0.2918 - attrition_output_loss: 0.1050 - department_output_accuracy: 0.8865 - attrition_output_accuracy: 0.9637 - val_loss: 3.5600 - val_department_output_loss: 2.4001 - val_attrition_output_loss: 1.1599 - val_department_output_accuracy: 0.5385 - val_attrition_output_accuracy: 0.7149\n",
            "Epoch 69/100\n",
            "26/26 [==============================] - 0s 1ms/step - loss: 0.3606 - department_output_loss: 0.2617 - attrition_output_loss: 0.0989 - department_output_accuracy: 0.8933 - attrition_output_accuracy: 0.9614 - val_loss: 3.4364 - val_department_output_loss: 2.4419 - val_attrition_output_loss: 0.9945 - val_department_output_accuracy: 0.5656 - val_attrition_output_accuracy: 0.7919\n",
            "Epoch 70/100\n",
            "26/26 [==============================] - 0s 2ms/step - loss: 0.3163 - department_output_loss: 0.2462 - attrition_output_loss: 0.0701 - department_output_accuracy: 0.9092 - attrition_output_accuracy: 0.9716 - val_loss: 3.2485 - val_department_output_loss: 2.2873 - val_attrition_output_loss: 0.9613 - val_department_output_accuracy: 0.5792 - val_attrition_output_accuracy: 0.8145\n",
            "Epoch 71/100\n",
            "26/26 [==============================] - 0s 2ms/step - loss: 0.3118 - department_output_loss: 0.2433 - attrition_output_loss: 0.0686 - department_output_accuracy: 0.9035 - attrition_output_accuracy: 0.9807 - val_loss: 3.3956 - val_department_output_loss: 2.4079 - val_attrition_output_loss: 0.9877 - val_department_output_accuracy: 0.5430 - val_attrition_output_accuracy: 0.7647\n",
            "Epoch 72/100\n",
            "26/26 [==============================] - 0s 1ms/step - loss: 0.3227 - department_output_loss: 0.2408 - attrition_output_loss: 0.0819 - department_output_accuracy: 0.9047 - attrition_output_accuracy: 0.9716 - val_loss: 3.3269 - val_department_output_loss: 2.3293 - val_attrition_output_loss: 0.9976 - val_department_output_accuracy: 0.5928 - val_attrition_output_accuracy: 0.8054\n",
            "Epoch 73/100\n",
            "26/26 [==============================] - 0s 1ms/step - loss: 0.2988 - department_output_loss: 0.2327 - attrition_output_loss: 0.0661 - department_output_accuracy: 0.9069 - attrition_output_accuracy: 0.9807 - val_loss: 3.3908 - val_department_output_loss: 2.3943 - val_attrition_output_loss: 0.9964 - val_department_output_accuracy: 0.5701 - val_attrition_output_accuracy: 0.7828\n",
            "Epoch 74/100\n",
            "26/26 [==============================] - 0s 1ms/step - loss: 0.3047 - department_output_loss: 0.2328 - attrition_output_loss: 0.0719 - department_output_accuracy: 0.9069 - attrition_output_accuracy: 0.9784 - val_loss: 3.3297 - val_department_output_loss: 2.3437 - val_attrition_output_loss: 0.9860 - val_department_output_accuracy: 0.5792 - val_attrition_output_accuracy: 0.8190\n",
            "Epoch 75/100\n",
            "26/26 [==============================] - 0s 2ms/step - loss: 0.3432 - department_output_loss: 0.2334 - attrition_output_loss: 0.1098 - department_output_accuracy: 0.9081 - attrition_output_accuracy: 0.9546 - val_loss: 3.3072 - val_department_output_loss: 2.3898 - val_attrition_output_loss: 0.9174 - val_department_output_accuracy: 0.5339 - val_attrition_output_accuracy: 0.8326\n",
            "Epoch 76/100\n",
            "26/26 [==============================] - 0s 2ms/step - loss: 0.3044 - department_output_loss: 0.2390 - attrition_output_loss: 0.0654 - department_output_accuracy: 0.9058 - attrition_output_accuracy: 0.9762 - val_loss: 3.3576 - val_department_output_loss: 2.3747 - val_attrition_output_loss: 0.9829 - val_department_output_accuracy: 0.5430 - val_attrition_output_accuracy: 0.8100\n",
            "Epoch 77/100\n",
            "26/26 [==============================] - 0s 1ms/step - loss: 0.2891 - department_output_loss: 0.2312 - attrition_output_loss: 0.0578 - department_output_accuracy: 0.9149 - attrition_output_accuracy: 0.9807 - val_loss: 3.3304 - val_department_output_loss: 2.3593 - val_attrition_output_loss: 0.9711 - val_department_output_accuracy: 0.5928 - val_attrition_output_accuracy: 0.8100\n",
            "Epoch 78/100\n",
            "26/26 [==============================] - 0s 2ms/step - loss: 0.2993 - department_output_loss: 0.2383 - attrition_output_loss: 0.0610 - department_output_accuracy: 0.9069 - attrition_output_accuracy: 0.9784 - val_loss: 3.5251 - val_department_output_loss: 2.5046 - val_attrition_output_loss: 1.0205 - val_department_output_accuracy: 0.5747 - val_attrition_output_accuracy: 0.7964\n",
            "Epoch 79/100\n",
            "26/26 [==============================] - 0s 1ms/step - loss: 0.2763 - department_output_loss: 0.2178 - attrition_output_loss: 0.0586 - department_output_accuracy: 0.9149 - attrition_output_accuracy: 0.9784 - val_loss: 3.4709 - val_department_output_loss: 2.4514 - val_attrition_output_loss: 1.0194 - val_department_output_accuracy: 0.5520 - val_attrition_output_accuracy: 0.8054\n",
            "Epoch 80/100\n",
            "26/26 [==============================] - 0s 2ms/step - loss: 0.2759 - department_output_loss: 0.2220 - attrition_output_loss: 0.0539 - department_output_accuracy: 0.9183 - attrition_output_accuracy: 0.9807 - val_loss: 3.4665 - val_department_output_loss: 2.4803 - val_attrition_output_loss: 0.9862 - val_department_output_accuracy: 0.5611 - val_attrition_output_accuracy: 0.8190\n",
            "Epoch 81/100\n",
            "26/26 [==============================] - 0s 2ms/step - loss: 0.2968 - department_output_loss: 0.2411 - attrition_output_loss: 0.0557 - department_output_accuracy: 0.8967 - attrition_output_accuracy: 0.9807 - val_loss: 3.6396 - val_department_output_loss: 2.6058 - val_attrition_output_loss: 1.0337 - val_department_output_accuracy: 0.5611 - val_attrition_output_accuracy: 0.7738\n",
            "Epoch 82/100\n",
            "26/26 [==============================] - 0s 2ms/step - loss: 0.2938 - department_output_loss: 0.2183 - attrition_output_loss: 0.0755 - department_output_accuracy: 0.9217 - attrition_output_accuracy: 0.9637 - val_loss: 3.5953 - val_department_output_loss: 2.5777 - val_attrition_output_loss: 1.0177 - val_department_output_accuracy: 0.5430 - val_attrition_output_accuracy: 0.8190\n",
            "Epoch 83/100\n",
            "26/26 [==============================] - 0s 2ms/step - loss: 0.2834 - department_output_loss: 0.2232 - attrition_output_loss: 0.0601 - department_output_accuracy: 0.9183 - attrition_output_accuracy: 0.9818 - val_loss: 3.5429 - val_department_output_loss: 2.4971 - val_attrition_output_loss: 1.0458 - val_department_output_accuracy: 0.5566 - val_attrition_output_accuracy: 0.8100\n",
            "Epoch 84/100\n",
            "26/26 [==============================] - 0s 2ms/step - loss: 0.2700 - department_output_loss: 0.2108 - attrition_output_loss: 0.0592 - department_output_accuracy: 0.9160 - attrition_output_accuracy: 0.9807 - val_loss: 3.5353 - val_department_output_loss: 2.4975 - val_attrition_output_loss: 1.0378 - val_department_output_accuracy: 0.5928 - val_attrition_output_accuracy: 0.7919\n",
            "Epoch 85/100\n",
            "26/26 [==============================] - 0s 1ms/step - loss: 0.2664 - department_output_loss: 0.2109 - attrition_output_loss: 0.0556 - department_output_accuracy: 0.9126 - attrition_output_accuracy: 0.9841 - val_loss: 3.5569 - val_department_output_loss: 2.5166 - val_attrition_output_loss: 1.0403 - val_department_output_accuracy: 0.5475 - val_attrition_output_accuracy: 0.8009\n",
            "Epoch 86/100\n",
            "26/26 [==============================] - 0s 1ms/step - loss: 0.2646 - department_output_loss: 0.2063 - attrition_output_loss: 0.0583 - department_output_accuracy: 0.9296 - attrition_output_accuracy: 0.9807 - val_loss: 3.5849 - val_department_output_loss: 2.4706 - val_attrition_output_loss: 1.1143 - val_department_output_accuracy: 0.5475 - val_attrition_output_accuracy: 0.7828\n",
            "Epoch 87/100\n",
            "26/26 [==============================] - 0s 2ms/step - loss: 0.2599 - department_output_loss: 0.2073 - attrition_output_loss: 0.0526 - department_output_accuracy: 0.9149 - attrition_output_accuracy: 0.9796 - val_loss: 3.5353 - val_department_output_loss: 2.4993 - val_attrition_output_loss: 1.0360 - val_department_output_accuracy: 0.5656 - val_attrition_output_accuracy: 0.8100\n",
            "Epoch 88/100\n",
            "26/26 [==============================] - 0s 2ms/step - loss: 0.2565 - department_output_loss: 0.2032 - attrition_output_loss: 0.0534 - department_output_accuracy: 0.9217 - attrition_output_accuracy: 0.9830 - val_loss: 3.6664 - val_department_output_loss: 2.6577 - val_attrition_output_loss: 1.0088 - val_department_output_accuracy: 0.5882 - val_attrition_output_accuracy: 0.8190\n",
            "Epoch 89/100\n",
            "26/26 [==============================] - 0s 1ms/step - loss: 0.2596 - department_output_loss: 0.2017 - attrition_output_loss: 0.0580 - department_output_accuracy: 0.9217 - attrition_output_accuracy: 0.9818 - val_loss: 3.7773 - val_department_output_loss: 2.6094 - val_attrition_output_loss: 1.1679 - val_department_output_accuracy: 0.5385 - val_attrition_output_accuracy: 0.7602\n",
            "Epoch 90/100\n",
            "26/26 [==============================] - 0s 2ms/step - loss: 0.3061 - department_output_loss: 0.2120 - attrition_output_loss: 0.0941 - department_output_accuracy: 0.9103 - attrition_output_accuracy: 0.9637 - val_loss: 3.5534 - val_department_output_loss: 2.5767 - val_attrition_output_loss: 0.9766 - val_department_output_accuracy: 0.5566 - val_attrition_output_accuracy: 0.8190\n",
            "Epoch 91/100\n",
            "26/26 [==============================] - 0s 1ms/step - loss: 0.2843 - department_output_loss: 0.2049 - attrition_output_loss: 0.0794 - department_output_accuracy: 0.9160 - attrition_output_accuracy: 0.9716 - val_loss: 3.6936 - val_department_output_loss: 2.5491 - val_attrition_output_loss: 1.1445 - val_department_output_accuracy: 0.5475 - val_attrition_output_accuracy: 0.7919\n",
            "Epoch 92/100\n",
            "26/26 [==============================] - 0s 2ms/step - loss: 0.2779 - department_output_loss: 0.1998 - attrition_output_loss: 0.0781 - department_output_accuracy: 0.9251 - attrition_output_accuracy: 0.9728 - val_loss: 3.7654 - val_department_output_loss: 2.6412 - val_attrition_output_loss: 1.1242 - val_department_output_accuracy: 0.5566 - val_attrition_output_accuracy: 0.7873\n",
            "Epoch 93/100\n",
            "26/26 [==============================] - 0s 1ms/step - loss: 0.2563 - department_output_loss: 0.1988 - attrition_output_loss: 0.0575 - department_output_accuracy: 0.9240 - attrition_output_accuracy: 0.9750 - val_loss: 3.6819 - val_department_output_loss: 2.5963 - val_attrition_output_loss: 1.0856 - val_department_output_accuracy: 0.5339 - val_attrition_output_accuracy: 0.8235\n",
            "Epoch 94/100\n",
            "26/26 [==============================] - 0s 2ms/step - loss: 0.2578 - department_output_loss: 0.2069 - attrition_output_loss: 0.0509 - department_output_accuracy: 0.9194 - attrition_output_accuracy: 0.9818 - val_loss: 3.6986 - val_department_output_loss: 2.6298 - val_attrition_output_loss: 1.0688 - val_department_output_accuracy: 0.5701 - val_attrition_output_accuracy: 0.7873\n",
            "Epoch 95/100\n",
            "26/26 [==============================] - 0s 2ms/step - loss: 0.2740 - department_output_loss: 0.2249 - attrition_output_loss: 0.0491 - department_output_accuracy: 0.9035 - attrition_output_accuracy: 0.9818 - val_loss: 3.6473 - val_department_output_loss: 2.5487 - val_attrition_output_loss: 1.0986 - val_department_output_accuracy: 0.5520 - val_attrition_output_accuracy: 0.7964\n",
            "Epoch 96/100\n",
            "26/26 [==============================] - 0s 3ms/step - loss: 0.2681 - department_output_loss: 0.2123 - attrition_output_loss: 0.0558 - department_output_accuracy: 0.9149 - attrition_output_accuracy: 0.9830 - val_loss: 3.7512 - val_department_output_loss: 2.6280 - val_attrition_output_loss: 1.1231 - val_department_output_accuracy: 0.5656 - val_attrition_output_accuracy: 0.7964\n",
            "Epoch 97/100\n",
            "26/26 [==============================] - 0s 1ms/step - loss: 0.2484 - department_output_loss: 0.1966 - attrition_output_loss: 0.0517 - department_output_accuracy: 0.9319 - attrition_output_accuracy: 0.9830 - val_loss: 3.7252 - val_department_output_loss: 2.4935 - val_attrition_output_loss: 1.2317 - val_department_output_accuracy: 0.5611 - val_attrition_output_accuracy: 0.7873\n",
            "Epoch 98/100\n",
            "26/26 [==============================] - 0s 2ms/step - loss: 0.2546 - department_output_loss: 0.2050 - attrition_output_loss: 0.0496 - department_output_accuracy: 0.9205 - attrition_output_accuracy: 0.9864 - val_loss: 3.8832 - val_department_output_loss: 2.7141 - val_attrition_output_loss: 1.1691 - val_department_output_accuracy: 0.5475 - val_attrition_output_accuracy: 0.7692\n",
            "Epoch 99/100\n",
            "26/26 [==============================] - 0s 2ms/step - loss: 0.2799 - department_output_loss: 0.2226 - attrition_output_loss: 0.0573 - department_output_accuracy: 0.9137 - attrition_output_accuracy: 0.9830 - val_loss: 3.8286 - val_department_output_loss: 2.7323 - val_attrition_output_loss: 1.0964 - val_department_output_accuracy: 0.5792 - val_attrition_output_accuracy: 0.7873\n",
            "Epoch 100/100\n",
            "26/26 [==============================] - 0s 2ms/step - loss: 0.2649 - department_output_loss: 0.2080 - attrition_output_loss: 0.0569 - department_output_accuracy: 0.9149 - attrition_output_accuracy: 0.9796 - val_loss: 3.6904 - val_department_output_loss: 2.5803 - val_attrition_output_loss: 1.1101 - val_department_output_accuracy: 0.5656 - val_attrition_output_accuracy: 0.8054\n"
          ]
        },
        {
          "data": {
            "text/plain": [
              "<keras.callbacks.History at 0x2bbe9f0a0>"
            ]
          },
          "execution_count": 55,
          "metadata": {},
          "output_type": "execute_result"
        }
      ],
      "source": [
        "# Train the model\n",
        "model.fit(\n",
        "    X_train,\n",
        "    {\n",
        "        'department_output': department_encoded_train,\n",
        "        'attrition_output': attrition_encoded_train\n",
        "    },\n",
        "    epochs=100,\n",
        "    batch_size=35,\n",
        "    validation_split=0.2\n",
        ")\n"
      ]
    },
    {
      "cell_type": "code",
      "execution_count": 58,
      "metadata": {
        "colab": {
          "base_uri": "https://localhost:8080/"
        },
        "id": "VsMoaQlgGc3U",
        "outputId": "1bd4e601-e964-4abc-ad83-aeecf6b696be"
      },
      "outputs": [
        {
          "name": "stdout",
          "output_type": "stream",
          "text": [
            "12/12 [==============================] - 0s 688us/step - loss: 4.0345 - department_output_loss: 3.0134 - attrition_output_loss: 1.0211 - department_output_accuracy: 0.5027 - attrition_output_accuracy: 0.8179\n"
          ]
        },
        {
          "data": {
            "text/plain": [
              "[4.0344624519348145,\n",
              " 3.0133888721466064,\n",
              " 1.021073341369629,\n",
              " 0.5027173757553101,\n",
              " 0.8179348111152649]"
            ]
          },
          "execution_count": 58,
          "metadata": {},
          "output_type": "execute_result"
        }
      ],
      "source": [
        "# Evaluate the model with the testing data\n",
        "results = model.evaluate(np.array(X_test), {\n",
        "    'department_output': department_encoded_test, \n",
        "    'attrition_output': attrition_encoded_test\n",
        "\n",
        "})\n",
        "results"
      ]
    },
    {
      "cell_type": "code",
      "execution_count": 63,
      "metadata": {
        "colab": {
          "base_uri": "https://localhost:8080/"
        },
        "id": "ZlCtlHi0Vt54",
        "outputId": "bc21ef3e-80c2-4b38-9c29-79515bc23dec"
      },
      "outputs": [
        {
          "name": "stdout",
          "output_type": "stream",
          "text": [
            "Department predictions Accuracy: 0.5027173757553101\n",
            "Attrition predictions Accuracy: 0.8179348111152649\n"
          ]
        }
      ],
      "source": [
        "# Print the accuracy for both department and attrition\n",
        "print(f\"Department predictions Accuracy: {results[3]}\")\n",
        "print(f\"Attrition predictions Accuracy: {results[4]}\")"
      ]
    },
    {
      "cell_type": "markdown",
      "metadata": {
        "id": "eGSyfsZfWOQM"
      },
      "source": [
        "# Summary\n",
        "\n",
        "In the provided space below, briefly answer the following questions.\n",
        "\n",
        "1. Is accuracy the best metric to use on this data? Why or why not?\n",
        "\n",
        "2. What activation functions did you choose for your output layers, and why?\n",
        "\n",
        "3. Can you name a few ways that this model might be improved?"
      ]
    },
    {
      "cell_type": "markdown",
      "metadata": {
        "id": "pi9SLpFnWvbF"
      },
      "source": [
        "1. For this data, accuracy is the best metric to use because the data deals with multiple classifications and multiple types of classifications, so the metric of accuracy gives an objective rating of the performance of the model in regards to classification.\n",
        "2. I used the 'softmax' activation for the 'Department' output layer because the 'Department' column featured 3 possible classes that are mutually exclusive. I used the 'sigmoid' activation for the 'Attrition' output layer because the 'Attrition' column only deals with a single class, and therefore deals with binary classification ('Yes' or 'No').\n",
        "3. This model could be improved by incorporating other features that are relevant to examining attrition for this organization, such as 'Age', 'HourlyRate', and 'YearAtCompany'. This would aid in examining whether attrition is in align with common sources of attrition."
      ]
    },
    {
      "cell_type": "markdown",
      "metadata": {
        "id": "3TX4HeebfJG9"
      },
      "source": []
    }
  ],
  "metadata": {
    "colab": {
      "provenance": []
    },
    "kernelspec": {
      "display_name": "dev",
      "language": "python",
      "name": "python3"
    },
    "language_info": {
      "codemirror_mode": {
        "name": "ipython",
        "version": 3
      },
      "file_extension": ".py",
      "mimetype": "text/x-python",
      "name": "python",
      "nbconvert_exporter": "python",
      "pygments_lexer": "ipython3",
      "version": "3.10.13"
    }
  },
  "nbformat": 4,
  "nbformat_minor": 0
}
